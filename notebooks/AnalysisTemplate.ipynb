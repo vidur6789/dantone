{
 "cells": [
  {
   "cell_type": "code",
   "execution_count": 1,
   "id": "ffdd52bc-32d9-4516-b1db-91a5f51ddb61",
   "metadata": {},
   "outputs": [],
   "source": [
    "import sys\n",
    "import os\n",
    "sys.path.append('../') # root directory"
   ]
  },
  {
   "cell_type": "code",
   "execution_count": 2,
   "id": "465841ca-282e-4724-b234-69b9b15dfb08",
   "metadata": {},
   "outputs": [],
   "source": [
    "from constants import constant\n",
    "import pandas as pd\n",
    "import numpy as np\n",
    "import constants.constant as constant\n",
    "import utils.commonutils as utils\n",
    "import utils.scraperutils as scraperutils\n",
    "from constants.namedtuples import Column\n",
    "from write.JsonFileWriter import write\n",
    "from read.JsonFileReader import parse\n",
    "from pathlib import Path\n",
    "from tqdm import tqdm\n",
    "from itertools import chain"
   ]
  },
  {
   "cell_type": "code",
   "execution_count": 3,
   "id": "034068e9-fb34-4eb3-af15-842602cdee82",
   "metadata": {},
   "outputs": [
    {
     "data": {
      "text/plain": [
       "['MorningStarStat.json', '.ipynb_checkpoints']"
      ]
     },
     "execution_count": 3,
     "metadata": {},
     "output_type": "execute_result"
    }
   ],
   "source": [
    "os.listdir('data')"
   ]
  },
  {
   "cell_type": "code",
   "execution_count": 4,
   "id": "1e67bdcc-bd74-4857-9a5a-af62d613a664",
   "metadata": {},
   "outputs": [
    {
     "data": {
      "text/plain": [
       "530"
      ]
     },
     "execution_count": 4,
     "metadata": {},
     "output_type": "execute_result"
    }
   ],
   "source": [
    "stocks = parse('data/MorningStarStat.json')\n",
    "KEY_STATS = 'keyStats'\n",
    "FIN_STATS = 'financeStats'\n",
    "TICKER = 'symbol'\n",
    "PERIOD_ALL = 100\n",
    "NULL = '—'\n",
    "len(stocks)"
   ]
  },
  {
   "cell_type": "code",
   "execution_count": 5,
   "id": "f82cdd3d-41ca-48e2-b3de-9e597b2c108f",
   "metadata": {},
   "outputs": [],
   "source": [
    "KEY_STAT_NAME = 'name'\n",
    "KEY_STAT_VALUES = 'values'\n",
    "KEY_STAT_PERIOD = 'period'\n",
    "KEY_STAT_VALUE = 'value'"
   ]
  },
  {
   "cell_type": "code",
   "execution_count": 6,
   "id": "eeecd6ce-2f11-4b0d-aa48-0ce7347d8f82",
   "metadata": {},
   "outputs": [],
   "source": [
    "stat_name = 'Operating Margin'\n",
    "stock_ticker = 'TAP'"
   ]
  },
  {
   "cell_type": "code",
   "execution_count": 7,
   "id": "b91ab5db-3b2e-44b1-ab03-0a3c7f70cf21",
   "metadata": {},
   "outputs": [
    {
     "data": {
      "text/plain": [
       "(530,)"
      ]
     },
     "execution_count": 7,
     "metadata": {},
     "output_type": "execute_result"
    }
   ],
   "source": [
    "tickers = pd.Series([s[TICKER] for s in stocks])\n",
    "tickers.shape"
   ]
  },
  {
   "cell_type": "markdown",
   "id": "5f333b8b-779f-42e0-bf24-93f3c6d37ffa",
   "metadata": {
    "tags": []
   },
   "source": [
    "## Retrieve Stock, Stat & Values from Raw Data"
   ]
  },
  {
   "cell_type": "code",
   "execution_count": 8,
   "id": "a118e7e8-223e-4b7c-a1bd-6d6bd4f256d1",
   "metadata": {},
   "outputs": [],
   "source": [
    "def get_stock(stocks, ticker):\n",
    "    '''\n",
    "    return stock based on ticker\n",
    "    '''\n",
    "    for stock in stocks:\n",
    "        if stock[TICKER] == ticker:\n",
    "            return stock"
   ]
  },
  {
   "cell_type": "code",
   "execution_count": 9,
   "id": "6c6d5226-0447-4cf9-8e2a-241d8d21da76",
   "metadata": {},
   "outputs": [],
   "source": [
    "def get_stat(stats, name):\n",
    "    '''\n",
    "    return stat based on name & stats passed\n",
    "    '''\n",
    "    for stat in stats:\n",
    "        if stat[KEY_STAT_NAME] == name:\n",
    "            return stat"
   ]
  },
  {
   "cell_type": "code",
   "execution_count": 10,
   "id": "591dfe27-83eb-4e8e-a216-374040450da3",
   "metadata": {},
   "outputs": [],
   "source": [
    "def get_value(stat, period=-1):\n",
    "    '''\n",
    "    return stat values for the passed stat, using period as the index. -1 returns TTM. 100 returns all. \n",
    "    '''\n",
    "    if period == PERIOD_ALL:\n",
    "        return stat[KEY_STAT_VALUES]\n",
    "    else:\n",
    "        return stat[KEY_STAT_VALUES][period]"
   ]
  },
  {
   "cell_type": "code",
   "execution_count": 11,
   "id": "3ca5b40d-6e32-4d49-8c90-21c0350f0fff",
   "metadata": {},
   "outputs": [],
   "source": [
    "def get_stat_value(stock, stat_type, stat_name, period=-1):\n",
    "    stat = get_stat(stock[stat_type], stat_name)\n",
    "    value = get_value(stat, period=period)\n",
    "    return value"
   ]
  },
  {
   "cell_type": "code",
   "execution_count": null,
   "id": "54b9194f-885f-4102-9127-2dea0e2d71fd",
   "metadata": {
    "tags": []
   },
   "outputs": [],
   "source": [
    "stock = get_stock(stocks, stock_ticker)\n",
    "stat = get_stat(stock[KEY_STATS], stat_name)\n",
    "values = get_value(stat, period=PERIOD_ALL)\n",
    "values"
   ]
  },
  {
   "cell_type": "code",
   "execution_count": null,
   "id": "24bac943-361c-4f77-bb36-aeb79e2c6a60",
   "metadata": {},
   "outputs": [],
   "source": [
    "get_stat_value(stat)"
   ]
  },
  {
   "cell_type": "code",
   "execution_count": null,
   "id": "782962b2-2ee0-4c7c-b181-2adf4dba9563",
   "metadata": {},
   "outputs": [],
   "source": [
    "pd.Series([v[KEY_STAT_VALUE] for v in values], dtype='float64')"
   ]
  },
  {
   "cell_type": "markdown",
   "id": "b25c8b08-8500-46c3-8f74-8756242df37f",
   "metadata": {},
   "source": [
    "## Screener"
   ]
  },
  {
   "cell_type": "code",
   "execution_count": 12,
   "id": "3e8bddb1-46f1-4421-a993-5373ade267de",
   "metadata": {},
   "outputs": [
    {
     "data": {
      "text/plain": [
       "(530, 85)"
      ]
     },
     "execution_count": 12,
     "metadata": {},
     "output_type": "execute_result"
    }
   ],
   "source": [
    "stat_names = [s[KEY_STAT_NAME] for s in chain(stocks[0][KEY_STATS], stocks[0][FIN_STATS])]\n",
    "tickers = [s[TICKER] for s in stocks]\n",
    "len(tickers), len(stat_names)"
   ]
  },
  {
   "cell_type": "code",
   "execution_count": 13,
   "id": "55ca06ea-8f73-4c83-9f5b-ae94141b2e0b",
   "metadata": {},
   "outputs": [],
   "source": [
    "# Efficiency\n",
    "ROIC = 'Return on Invested Capital %'\n",
    "OPERATING_MARGIN = 'Operating Margin'\n",
    "GROSS_MARGIN = 'Gross Margin'\n",
    "NET_MARGIN = 'Net Margin %'\n",
    "\n",
    "# Growth\n",
    "OPERATING_CF_GROWTH = 'Operating Cash Flow Growth % YOY'\n",
    "REVENUE_GROWTH_3 = 'Revenue % 3-Year Average'\n",
    "REVENUE_GROWTH_5 = 'Revenue % 5-Year Average'\n",
    "OPERATING_INCOME_GROWTH_3 = 'Operating Income % 3-Year Average'\n",
    "OPERATING_INCOME_GROWTH_5 = 'Operating Income % 5-Year Average'\n",
    "\n",
    "# Financial Risks\n",
    "DEBT_EQUITY = 'Debt/Equity'"
   ]
  }
 ],
 "metadata": {
  "kernelspec": {
   "display_name": "Python 3 (ipykernel)",
   "language": "python",
   "name": "python3"
  },
  "language_info": {
   "codemirror_mode": {
    "name": "ipython",
    "version": 3
   },
   "file_extension": ".py",
   "mimetype": "text/x-python",
   "name": "python",
   "nbconvert_exporter": "python",
   "pygments_lexer": "ipython3",
   "version": "3.8.12"
  }
 },
 "nbformat": 4,
 "nbformat_minor": 5
}
