{
 "cells": [
  {
   "cell_type": "code",
   "execution_count": 1,
   "id": "26cc035e-eb18-48da-a58f-d1ddf5186fe4",
   "metadata": {},
   "outputs": [],
   "source": [
    "import sys\n",
    "import os\n",
    "sys.path.append('../') # root directory"
   ]
  },
  {
   "cell_type": "code",
   "execution_count": 13,
   "id": "0330d5ab-a46f-43de-8d6e-7a74d29ccf2a",
   "metadata": {},
   "outputs": [],
   "source": [
    "from constants import constant\n",
    "import pandas as pd\n",
    "import numpy as np\n",
    "import constants.constant as constant\n",
    "import utils.commonutils as utils\n",
    "import utils.scraperutils as scraperutils\n",
    "from constants.namedtuples import Column\n",
    "from write.JsonFileWriter import write\n",
    "from read.JsonFileReader import parse\n",
    "from pathlib import Path\n",
    "from tqdm import tqdm\n",
    "from itertools import chain"
   ]
  },
  {
   "cell_type": "code",
   "execution_count": 3,
   "id": "1858d43f-59ab-40ff-91b8-5682124a22e1",
   "metadata": {},
   "outputs": [
    {
     "data": {
      "text/plain": [
       "['MorningStarStat.json', '.ipynb_checkpoints']"
      ]
     },
     "execution_count": 3,
     "metadata": {},
     "output_type": "execute_result"
    }
   ],
   "source": [
    "os.listdir('data')"
   ]
  },
  {
   "cell_type": "code",
   "execution_count": 19,
   "id": "9af49a46-5693-4f69-b7c9-1628d0f4c3e7",
   "metadata": {},
   "outputs": [
    {
     "data": {
      "text/plain": [
       "530"
      ]
     },
     "execution_count": 19,
     "metadata": {},
     "output_type": "execute_result"
    }
   ],
   "source": [
    "stocks = parse('data/MorningStarStat.json')\n",
    "KEY_STATS = 'keyStats'\n",
    "FIN_STATS = 'financeStats'\n",
    "TICKER = 'symbol'\n",
    "PERIOD_ALL = 100\n",
    "NULL = '—'\n",
    "len(stocks)"
   ]
  },
  {
   "cell_type": "code",
   "execution_count": 20,
   "id": "d52f18c8-68e4-4398-b269-53648b91d050",
   "metadata": {},
   "outputs": [],
   "source": [
    "KEY_STAT_NAME = 'name'\n",
    "KEY_STAT_VALUES = 'values'\n",
    "KEY_STAT_PERIOD = 'period'\n",
    "KEY_STAT_VALUE = 'value'"
   ]
  },
  {
   "cell_type": "code",
   "execution_count": 21,
   "id": "36760259-042e-4e19-a65c-45cf5dd57aad",
   "metadata": {},
   "outputs": [],
   "source": [
    "stat_name = 'Operating Margin'\n",
    "stock_ticker = 'TAP'"
   ]
  },
  {
   "cell_type": "code",
   "execution_count": 22,
   "id": "5eba2829-8f7f-4eaf-bc16-10457a1dfc96",
   "metadata": {},
   "outputs": [
    {
     "data": {
      "text/plain": [
       "(530,)"
      ]
     },
     "execution_count": 22,
     "metadata": {},
     "output_type": "execute_result"
    }
   ],
   "source": [
    "tickers = pd.Series([s[TICKER] for s in stocks])\n",
    "tickers.shape"
   ]
  },
  {
   "cell_type": "markdown",
   "id": "6b827c6e-a928-4fd9-85b3-6fa198b9ac02",
   "metadata": {
    "jp-MarkdownHeadingCollapsed": true,
    "tags": []
   },
   "source": [
    "## Retrieve Stock, Stat & Values from Raw Data"
   ]
  },
  {
   "cell_type": "code",
   "execution_count": 8,
   "id": "d47e836e-0cb1-4df5-8bf2-59f0c3bed572",
   "metadata": {},
   "outputs": [],
   "source": [
    "def get_stock(stocks, ticker):\n",
    "    '''\n",
    "    return stock based on ticker\n",
    "    '''\n",
    "    for stock in stocks:\n",
    "        if stock[TICKER] == ticker:\n",
    "            return stock"
   ]
  },
  {
   "cell_type": "code",
   "execution_count": 9,
   "id": "d20ecb4c-f205-456d-a098-84931dcdc5e4",
   "metadata": {},
   "outputs": [],
   "source": [
    "def get_stat(stats, name):\n",
    "    '''\n",
    "    return stat based on name & stats passed\n",
    "    '''\n",
    "    for stat in stats:\n",
    "        if stat[KEY_STAT_NAME] == name:\n",
    "            return stat"
   ]
  },
  {
   "cell_type": "code",
   "execution_count": 10,
   "id": "c1e35fd6-30fe-43ae-89c6-4ad52266c9e3",
   "metadata": {},
   "outputs": [],
   "source": [
    "def get_value(stat, period=-1):\n",
    "    '''\n",
    "    return stat values for the passed stat, using period as the index. -1 returns TTM. 100 returns all. \n",
    "    '''\n",
    "    if period == PERIOD_ALL:\n",
    "        return stat[KEY_STAT_VALUES]\n",
    "    else:\n",
    "        return stat[KEY_STAT_VALUES][period]"
   ]
  },
  {
   "cell_type": "code",
   "execution_count": 11,
   "id": "0217d412-d93a-40f9-a683-4c2d5154afc8",
   "metadata": {},
   "outputs": [],
   "source": [
    "def get_stat_value(stock, stat_type, stat_name, period=-1):\n",
    "    stat = get_stat(stock[stat_type], stat_name)\n",
    "    value = get_value(stat, period=period)\n",
    "    return value"
   ]
  },
  {
   "cell_type": "code",
   "execution_count": null,
   "id": "6fff1550-d12d-4238-a900-e92f13de3767",
   "metadata": {
    "tags": []
   },
   "outputs": [],
   "source": [
    "stock = get_stock(stocks, stock_ticker)\n",
    "stat = get_stat(stock[KEY_STATS], stat_name)\n",
    "values = get_value(stat, period=PERIOD_ALL)\n",
    "values"
   ]
  },
  {
   "cell_type": "code",
   "execution_count": null,
   "id": "7ea1125c-1b2e-4d7f-99b3-0a4b90341a6d",
   "metadata": {},
   "outputs": [],
   "source": [
    "get_stat_value(stat)"
   ]
  },
  {
   "cell_type": "code",
   "execution_count": null,
   "id": "08941298-d4c7-4fc4-89f2-7844624fb358",
   "metadata": {},
   "outputs": [],
   "source": [
    "pd.Series([v[KEY_STAT_VALUE] for v in values], dtype='float64')"
   ]
  },
  {
   "cell_type": "markdown",
   "id": "365413f3-0ce4-4837-a8c3-1958c1929b2e",
   "metadata": {},
   "source": [
    "## Screener"
   ]
  },
  {
   "cell_type": "code",
   "execution_count": 23,
   "id": "fa5e0534-1c52-4278-90d9-954de1d11e80",
   "metadata": {},
   "outputs": [
    {
     "data": {
      "text/plain": [
       "(530, 85)"
      ]
     },
     "execution_count": 23,
     "metadata": {},
     "output_type": "execute_result"
    }
   ],
   "source": [
    "stat_names = [s[KEY_STAT_NAME] for s in chain(stocks[0][KEY_STATS], stocks[0][FIN_STATS])]\n",
    "tickers = [s[TICKER] for s in stocks]\n",
    "len(tickers), len(stat_names)"
   ]
  },
  {
   "cell_type": "code",
   "execution_count": 24,
   "id": "b064d36a-a32e-4f96-bd85-767c3d63cf5f",
   "metadata": {},
   "outputs": [],
   "source": [
    "# Efficiency\n",
    "ROIC = 'Return on Invested Capital %'\n",
    "OPERATING_MARGIN = 'Operating Margin'\n",
    "GROSS_MARGIN = 'Gross Margin'\n",
    "NET_MARGIN = 'Net Margin %'\n",
    "\n",
    "# Growth\n",
    "OPERATING_CF_GROWTH = 'Operating Cash Flow Growth % YOY'\n",
    "REVENUE_GROWTH_3 = 'Revenue % 3-Year Average'\n",
    "REVENUE_GROWTH_5 = 'Revenue % 5-Year Average'\n",
    "OPERATING_INCOME_GROWTH_3 = 'Operating Income % 3-Year Average'\n",
    "OPERATING_INCOME_GROWTH_5 = 'Operating Income % 5-Year Average'\n",
    "\n",
    "# Financial Risks\n",
    "DEBT_EQUITY = 'Debt/Equity'"
   ]
  },
  {
   "cell_type": "markdown",
   "id": "b61db9d6-ae7a-4e6b-a7db-dba06fe6cbb1",
   "metadata": {},
   "source": [
    "## High Growth & Efficiency"
   ]
  },
  {
   "cell_type": "code",
   "execution_count": 36,
   "id": "ab2ac38b-755a-4bb2-a352-8a08aea55a96",
   "metadata": {},
   "outputs": [],
   "source": [
    "screen = pd.DataFrame()\n",
    "screen['ticker'] = tickers\n",
    "\n",
    "screen['roic'] = pd.Series(\n",
    "    [get_stat_value(s, KEY_STATS, ROIC)['value'] for s in stocks]\n",
    ").replace({NULL: float('nan')}).astype('float64')\n",
    "\n",
    "screen['op_inc_3_yr_growth'] = pd.Series(\n",
    "    [get_stat_value(s, KEY_STATS, OPERATING_INCOME_GROWTH_3)['value'] for s in stocks]\n",
    ").replace({NULL: float('nan')}).astype('float64')"
   ]
  },
  {
   "cell_type": "code",
   "execution_count": 34,
   "id": "f2592ef6-3a51-4f28-85e6-518406e33be3",
   "metadata": {},
   "outputs": [],
   "source": [
    "roic_gt_25 = screen['roic'] > 25 # 18% is 75th percentile\n",
    "roic_gt_25.sum()"
   ]
  },
  {
   "cell_type": "code",
   "execution_count": 38,
   "id": "62532d47-ad04-4585-9d64-02b586b4cf09",
   "metadata": {},
   "outputs": [
    {
     "data": {
      "text/plain": [
       "0     NaN\n",
       "1     NaN\n",
       "2     NaN\n",
       "3     NaN\n",
       "4     NaN\n",
       "       ..\n",
       "525   NaN\n",
       "526   NaN\n",
       "527   NaN\n",
       "528   NaN\n",
       "529   NaN\n",
       "Length: 530, dtype: float64"
      ]
     },
     "execution_count": 38,
     "metadata": {},
     "output_type": "execute_result"
    }
   ],
   "source": [
    "pd.Series(\n",
    "    [get_stat_value(s, KEY_STATS, OPERATING_INCOME_GROWTH_3)['value'] for s in stocks]\n",
    ").replace({NULL: float('nan')}).astype('float64')"
   ]
  },
  {
   "cell_type": "code",
   "execution_count": null,
   "id": "bfe410e4-2e94-4b88-9aeb-b60eeb52742f",
   "metadata": {},
   "outputs": [],
   "source": [
    "pd.Series(\n",
    "    [get_stat_value(s, KEY_STATS, OPERATING_INCOME_GROWTH_3)['value'] for s in stocks]\n",
    ").replace({NULL: float('nan')}).astype('float64')"
   ]
  },
  {
   "cell_type": "code",
   "execution_count": null,
   "id": "92e198f7-ef7a-412c-bbdc-78ef8a024df4",
   "metadata": {},
   "outputs": [],
   "source": []
  }
 ],
 "metadata": {
  "kernelspec": {
   "display_name": "Python 3 (ipykernel)",
   "language": "python",
   "name": "python3"
  },
  "language_info": {
   "codemirror_mode": {
    "name": "ipython",
    "version": 3
   },
   "file_extension": ".py",
   "mimetype": "text/x-python",
   "name": "python",
   "nbconvert_exporter": "python",
   "pygments_lexer": "ipython3",
   "version": "3.8.12"
  }
 },
 "nbformat": 4,
 "nbformat_minor": 5
}
