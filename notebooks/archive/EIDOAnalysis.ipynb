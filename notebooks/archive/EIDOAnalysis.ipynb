{
 "cells": [
  {
   "cell_type": "code",
   "execution_count": 72,
   "metadata": {},
   "outputs": [],
   "source": [
    "import sys\n",
    "import os\n",
    "sys.path.append('../') # root directory"
   ]
  },
  {
   "cell_type": "code",
   "execution_count": 73,
   "metadata": {},
   "outputs": [],
   "source": [
    "import read.JsonFileReader as json_reader\n",
    "import matplotlib.pyplot as plt\n",
    "from constants import constant\n",
    "import pandas as pd\n",
    "import numpy as np\n",
    "import yfinance as yf"
   ]
  },
  {
   "cell_type": "code",
   "execution_count": 5,
   "metadata": {},
   "outputs": [],
   "source": [
    "EMPTY = chr(8212)\n",
    "EIDO_STATS = '../output/gold/EIDO_2020-08-20005340455384.json'\n",
    "EIDO_HOLDINGS = '../input/archive/EIDO_Holdings.csv'"
   ]
  },
  {
   "cell_type": "code",
   "execution_count": 6,
   "metadata": {},
   "outputs": [
    {
     "name": "stdout",
     "output_type": "stream",
     "text": [
      "Len(stocks): 74, \n",
      "EIDO holdings shape: (74, 6)\n"
     ]
    }
   ],
   "source": [
    "stocks = json_reader.parse(EIDO_STATS)\n",
    "eido_df = pd.read_csv(EIDO_HOLDINGS)\n",
    "print(f'Len(stocks): {len(stocks)}, \\nEIDO holdings shape: {eido_df.shape}')\n",
    "all_stat_names = [stat['name'] for key in ('financeStats', 'keyStats') for stat in stocks[0][key]]"
   ]
  },
  {
   "cell_type": "code",
   "execution_count": null,
   "metadata": {},
   "outputs": [],
   "source": []
  },
  {
   "cell_type": "code",
   "execution_count": null,
   "metadata": {},
   "outputs": [],
   "source": []
  },
  {
   "cell_type": "code",
   "execution_count": 8,
   "metadata": {},
   "outputs": [],
   "source": [
    "# TODO deal with statNames order"
   ]
  },
  {
   "cell_type": "code",
   "execution_count": 9,
   "metadata": {},
   "outputs": [],
   "source": [
    "def getrow(stock, stat_names, periods='all', keys=('financeStats', 'keyStats')):\n",
    "    stats = [stat for key in keys for stat in stock[key] if stat['name'] in stat_names]\n",
    "    stat_values = [v['value'] for stat in stats for v in stat['values'] if periods == 'all' or v['period'] in periods]\n",
    "    return [stock['symbol']] + stat_values"
   ]
  },
  {
   "cell_type": "code",
   "execution_count": 10,
   "metadata": {},
   "outputs": [],
   "source": [
    "def extract_stat(stocks, stat_names, periods='all', keys=('financeStats', 'keyStats')):\n",
    "    stats = [getrow(stock, stat_names, periods, keys) for stock in stocks]\n",
    "    colheaders = pd.MultiIndex.from_product([stat_names, periods]).insert(0, 'Symbol')\n",
    "    stats_df = pd.DataFrame(stats, columns=colheaders)\n",
    "    stats_df = stats_df.replace(EMPTY, np.NaN)\n",
    "    stats_df.loc[:, stat_names] = stats_df.loc[:, stat_names].astype('float32')\n",
    "    return stats_df"
   ]
  },
  {
   "cell_type": "code",
   "execution_count": 97,
   "metadata": {},
   "outputs": [],
   "source": [
    "def get_price(ticker, suffix='JK', period=-1): \n",
    "    symbol = f'{ticker}.{suffix}'\n",
    "    stock = yf.Ticker(symbol)\n",
    "    hist = stock.history(period=\"max\")\n",
    "    return hist['Close'][period]"
   ]
  },
  {
   "cell_type": "code",
   "execution_count": 114,
   "metadata": {},
   "outputs": [],
   "source": [
    "unlisted = ['SIAP', 'INVS']\n",
    "# for symbol in eido['Symbol']:\n",
    "#     try:\n",
    "#         get_price(symbol)\n",
    "#     except Exception:\n",
    "#         print('Exception for ', symbol)"
   ]
  },
  {
   "cell_type": "code",
   "execution_count": 11,
   "metadata": {},
   "outputs": [],
   "source": [
    "stat_names = ['Earnings Per Share']\n",
    "keys = ('financeStats',)\n",
    "periods = ['2015-12', '2016-12', '2017-12', '2018-12', '2019-12', 'TTM']"
   ]
  },
  {
   "cell_type": "code",
   "execution_count": 12,
   "metadata": {},
   "outputs": [
    {
     "name": "stderr",
     "output_type": "stream",
     "text": [
      "/Users/vidurpuliani/opt/anaconda3/envs/dantone/lib/python3.7/site-packages/IPython/core/interactiveshell.py:3146: PerformanceWarning: indexing past lexsort depth may impact performance.\n",
      "  interactivity=interactivity, compiler=compiler, result=result)\n"
     ]
    }
   ],
   "source": [
    "stats_df = extract_stat(stocks, stat_names, periods, keys=keys)"
   ]
  },
  {
   "cell_type": "code",
   "execution_count": 126,
   "metadata": {},
   "outputs": [
    {
     "name": "stderr",
     "output_type": "stream",
     "text": [
      "/Users/vidurpuliani/opt/anaconda3/envs/dantone/lib/python3.7/site-packages/pandas/core/reshape/merge.py:643: UserWarning: merging between different levels can give an unintended result (1 levels on the left,2 on the right)\n",
      "  warnings.warn(msg, UserWarning)\n",
      "/Users/vidurpuliani/opt/anaconda3/envs/dantone/lib/python3.7/site-packages/pandas/core/generic.py:3878: PerformanceWarning: dropping on a non-lexsorted multi-index without a level parameter may impact performance.\n",
      "  obj = obj._drop_axis(labels, axis, level=level, errors=errors)\n"
     ]
    }
   ],
   "source": [
    "eido = pd.merge(eido_df, stats_df, on='Symbol', how='left')\n",
    "eido.index = eido['Symbol']\n",
    "eido = eido.loc[eido['Weight'] >0, :] # unlisted [SIAP, INVS, SUGI]\n",
    "eido['weightedEPS'] = eido['Weight'] * eido[('Earnings Per Share', 'TTM')]\n",
    "eido['Price'] = eido['Symbol'].apply(get_price)"
   ]
  },
  {
   "cell_type": "code",
   "execution_count": null,
   "metadata": {},
   "outputs": [],
   "source": []
  },
  {
   "cell_type": "code",
   "execution_count": 133,
   "metadata": {},
   "outputs": [
    {
     "name": "stdout",
     "output_type": "stream",
     "text": [
      "Total EPS for ('Earnings Per Share', '2015-12'): 37027.286924865206. NA weight:4.01%\n",
      "Total EPS for ('Earnings Per Share', '2016-12'): 40756.497078834866. NA weight:2.92%\n",
      "Total EPS for ('Earnings Per Share', '2017-12'): 45254.87746621996. NA weight:1.90%\n",
      "Total EPS for ('Earnings Per Share', '2018-12'): 49669.34030472184. NA weight:2.52%\n",
      "Total EPS for ('Earnings Per Share', '2019-12'): 55367.45050997239. NA weight:3.57%\n",
      "Total EPS for ('Earnings Per Share', 'TTM'): 54088.80141877472. NA weight:4.03%\n"
     ]
    }
   ],
   "source": [
    "eidoEPSList = []\n",
    "for col in eido.columns[-8:-2]:\n",
    "    weightedEPS = eido['Weight'] * eido[col]\n",
    "    totalEPS = weightedEPS.fillna(0).sum()\n",
    "    eidoEPSList.append(totalEPS)\n",
    "    na_weight = eido.loc[eido[col].isna(), 'Weight'].sum()\n",
    "    print(f'Total EPS for {col}: {totalEPS}. NA weight:{na_weight:0.2f}%')\n",
    "eidoEPS = pd.Series(data=eidoEPSList, index=eido.columns[-8:-2])"
   ]
  },
  {
   "cell_type": "code",
   "execution_count": 136,
   "metadata": {},
   "outputs": [
    {
     "data": {
      "text/plain": [
       "<AxesSubplot:>"
      ]
     },
     "execution_count": 136,
     "metadata": {},
     "output_type": "execute_result"
    },
    {
     "data": {
      "image/png": "[encoded data removed]",
      "text/plain": [
       "<Figure size 432x288 with 1 Axes>"
      ]
     },
     "metadata": {
      "needs_background": "light"
     },
     "output_type": "display_data"
    }
   ],
   "source": [
    "eidoEPS.plot(kind='bar')"
   ]
  },
  {
   "cell_type": "code",
   "execution_count": 135,
   "metadata": {},
   "outputs": [
    {
     "data": {
      "text/plain": [
       "<AxesSubplot:>"
      ]
     },
     "execution_count": 135,
     "metadata": {},
     "output_type": "execute_result"
    },
    {
     "data": {
      "image/png": "[encoded data removed]",
      "text/plain": [
       "<Figure size 432x288 with 1 Axes>"
      ]
     },
     "metadata": {
      "needs_background": "light"
     },
     "output_type": "display_data"
    }
   ],
   "source": [
    "(eidoEPS.pct_change()*100).plot(kind='bar')"
   ]
  },
  {
   "cell_type": "code",
   "execution_count": 147,
   "metadata": {},
   "outputs": [],
   "source": [
    "eido[('PE', 'TTM')] = (eido['Price']/eido[('Earnings Per Share', 'TTM')])"
   ]
  },
  {
   "cell_type": "code",
   "execution_count": 161,
   "metadata": {},
   "outputs": [],
   "source": [
    "eido['weightedPE'] = (eido['Weight']/100) * eido[('PE', 'TTM')]"
   ]
  },
  {
   "cell_type": "code",
   "execution_count": 172,
   "metadata": {},
   "outputs": [
    {
     "data": {
      "text/html": [
       "<div>\n",
       "<style scoped>\n",
       "    .dataframe tbody tr th:only-of-type {\n",
       "        vertical-align: middle;\n",
       "    }\n",
       "\n",
       "    .dataframe tbody tr th {\n",
       "        vertical-align: top;\n",
       "    }\n",
       "\n",
       "    .dataframe thead th {\n",
       "        text-align: right;\n",
       "    }\n",
       "</style>\n",
       "<table border=\"1\" class=\"dataframe\">\n",
       "  <thead>\n",
       "    <tr style=\"text-align: right;\">\n",
       "      <th></th>\n",
       "      <th>Symbol</th>\n",
       "      <th>Name</th>\n",
       "      <th>Sector</th>\n",
       "      <th>Asset</th>\n",
       "      <th>MarketCap</th>\n",
       "      <th>Weight</th>\n",
       "      <th>(Earnings Per Share, 2015-12)</th>\n",
       "      <th>(Earnings Per Share, 2016-12)</th>\n",
       "      <th>(Earnings Per Share, 2017-12)</th>\n",
       "      <th>(Earnings Per Share, 2018-12)</th>\n",
       "      <th>(Earnings Per Share, 2019-12)</th>\n",
       "      <th>(Earnings Per Share, TTM)</th>\n",
       "      <th>weightedEPS</th>\n",
       "      <th>Price</th>\n",
       "      <th>(PE, TTM)</th>\n",
       "      <th>weightedPE</th>\n",
       "    </tr>\n",
       "    <tr>\n",
       "      <th>Symbol</th>\n",
       "      <th></th>\n",
       "      <th></th>\n",
       "      <th></th>\n",
       "      <th></th>\n",
       "      <th></th>\n",
       "      <th></th>\n",
       "      <th></th>\n",
       "      <th></th>\n",
       "      <th></th>\n",
       "      <th></th>\n",
       "      <th></th>\n",
       "      <th></th>\n",
       "      <th></th>\n",
       "      <th></th>\n",
       "      <th></th>\n",
       "      <th></th>\n",
       "    </tr>\n",
       "  </thead>\n",
       "  <tbody>\n",
       "    <tr>\n",
       "      <th>INKP</th>\n",
       "      <td>INKP</td>\n",
       "      <td>INDAH KIAT PULP &amp; PAPER</td>\n",
       "      <td>Materials</td>\n",
       "      <td>Equity</td>\n",
       "      <td>6,264,192.05</td>\n",
       "      <td>2.02</td>\n",
       "      <td>0.040000</td>\n",
       "      <td>0.040000</td>\n",
       "      <td>0.08</td>\n",
       "      <td>0.11</td>\n",
       "      <td>0.05</td>\n",
       "      <td>0.06</td>\n",
       "      <td>0.1212</td>\n",
       "      <td>9500.0</td>\n",
       "      <td>158333.336872</td>\n",
       "      <td>3198.333405</td>\n",
       "    </tr>\n",
       "    <tr>\n",
       "      <th>ADRO</th>\n",
       "      <td>ADRO</td>\n",
       "      <td>ADARO ENERGY TBK</td>\n",
       "      <td>Energy</td>\n",
       "      <td>Equity</td>\n",
       "      <td>3,767,412.49</td>\n",
       "      <td>1.22</td>\n",
       "      <td>NaN</td>\n",
       "      <td>0.010000</td>\n",
       "      <td>0.01</td>\n",
       "      <td>0.01</td>\n",
       "      <td>0.01</td>\n",
       "      <td>0.01</td>\n",
       "      <td>0.0122</td>\n",
       "      <td>1115.0</td>\n",
       "      <td>111500.002492</td>\n",
       "      <td>1360.300030</td>\n",
       "    </tr>\n",
       "    <tr>\n",
       "      <th>TKIM</th>\n",
       "      <td>TKIM</td>\n",
       "      <td>PABRIK KERTAS TJIWI KIMIA</td>\n",
       "      <td>Materials</td>\n",
       "      <td>Equity</td>\n",
       "      <td>2,508,082.23</td>\n",
       "      <td>0.81</td>\n",
       "      <td>NaN</td>\n",
       "      <td>NaN</td>\n",
       "      <td>0.01</td>\n",
       "      <td>0.08</td>\n",
       "      <td>0.05</td>\n",
       "      <td>0.05</td>\n",
       "      <td>0.0405</td>\n",
       "      <td>6925.0</td>\n",
       "      <td>138499.997936</td>\n",
       "      <td>1121.849983</td>\n",
       "    </tr>\n",
       "    <tr>\n",
       "      <th>ITMG</th>\n",
       "      <td>ITMG</td>\n",
       "      <td>INDO TAMBANGRAYA MEGAH</td>\n",
       "      <td>Energy</td>\n",
       "      <td>Equity</td>\n",
       "      <td>1,016,134.52</td>\n",
       "      <td>0.33</td>\n",
       "      <td>0.060000</td>\n",
       "      <td>0.120000</td>\n",
       "      <td>0.23</td>\n",
       "      <td>0.24</td>\n",
       "      <td>0.12</td>\n",
       "      <td>0.09</td>\n",
       "      <td>0.0297</td>\n",
       "      <td>8200.0</td>\n",
       "      <td>91111.107491</td>\n",
       "      <td>300.666655</td>\n",
       "    </tr>\n",
       "    <tr>\n",
       "      <th>BBCA</th>\n",
       "      <td>BBCA</td>\n",
       "      <td>BANK CENTRAL ASIA</td>\n",
       "      <td>Financials</td>\n",
       "      <td>Equity</td>\n",
       "      <td>59,178,550.05</td>\n",
       "      <td>19.10</td>\n",
       "      <td>731.000000</td>\n",
       "      <td>836.000000</td>\n",
       "      <td>945.00</td>\n",
       "      <td>1049.00</td>\n",
       "      <td>1159.00</td>\n",
       "      <td>1133.00</td>\n",
       "      <td>21640.3000</td>\n",
       "      <td>31650.0</td>\n",
       "      <td>27.934687</td>\n",
       "      <td>5.335525</td>\n",
       "    </tr>\n",
       "    <tr>\n",
       "      <th>...</th>\n",
       "      <td>...</td>\n",
       "      <td>...</td>\n",
       "      <td>...</td>\n",
       "      <td>...</td>\n",
       "      <td>...</td>\n",
       "      <td>...</td>\n",
       "      <td>...</td>\n",
       "      <td>...</td>\n",
       "      <td>...</td>\n",
       "      <td>...</td>\n",
       "      <td>...</td>\n",
       "      <td>...</td>\n",
       "      <td>...</td>\n",
       "      <td>...</td>\n",
       "      <td>...</td>\n",
       "      <td>...</td>\n",
       "    </tr>\n",
       "    <tr>\n",
       "      <th>MYRX</th>\n",
       "      <td>MYRX</td>\n",
       "      <td>HANSON INTERNATIONAL</td>\n",
       "      <td>Real Estate</td>\n",
       "      <td>Equity</td>\n",
       "      <td>886,010.24</td>\n",
       "      <td>0.29</td>\n",
       "      <td>0.260000</td>\n",
       "      <td>0.870000</td>\n",
       "      <td>-1.53</td>\n",
       "      <td>1.10</td>\n",
       "      <td>-2.64</td>\n",
       "      <td>NaN</td>\n",
       "      <td>NaN</td>\n",
       "      <td>50.0</td>\n",
       "      <td>NaN</td>\n",
       "      <td>NaN</td>\n",
       "    </tr>\n",
       "    <tr>\n",
       "      <th>TRAM</th>\n",
       "      <td>TRAM</td>\n",
       "      <td>TRADA ALAM MINERA</td>\n",
       "      <td>Industrials</td>\n",
       "      <td>Equity</td>\n",
       "      <td>392,497.91</td>\n",
       "      <td>0.13</td>\n",
       "      <td>-105.510002</td>\n",
       "      <td>-23.299999</td>\n",
       "      <td>-0.67</td>\n",
       "      <td>5.95</td>\n",
       "      <td>3.48</td>\n",
       "      <td>NaN</td>\n",
       "      <td>NaN</td>\n",
       "      <td>50.0</td>\n",
       "      <td>NaN</td>\n",
       "      <td>NaN</td>\n",
       "    </tr>\n",
       "    <tr>\n",
       "      <th>TAMU</th>\n",
       "      <td>TAMU</td>\n",
       "      <td>PELAYARAN TAMARIN SAMUDRA</td>\n",
       "      <td>Energy</td>\n",
       "      <td>Equity</td>\n",
       "      <td>271,317.93</td>\n",
       "      <td>0.09</td>\n",
       "      <td>NaN</td>\n",
       "      <td>-2.270000</td>\n",
       "      <td>NaN</td>\n",
       "      <td>NaN</td>\n",
       "      <td>NaN</td>\n",
       "      <td>NaN</td>\n",
       "      <td>NaN</td>\n",
       "      <td>54.0</td>\n",
       "      <td>NaN</td>\n",
       "      <td>NaN</td>\n",
       "    </tr>\n",
       "    <tr>\n",
       "      <th>RIMO</th>\n",
       "      <td>RIMO</td>\n",
       "      <td>RIMO INTERNATIONAL LESTARI</td>\n",
       "      <td>Real Estate</td>\n",
       "      <td>Equity</td>\n",
       "      <td>135,634.47</td>\n",
       "      <td>0.04</td>\n",
       "      <td>-5.060000</td>\n",
       "      <td>-5.910000</td>\n",
       "      <td>1.46</td>\n",
       "      <td>2.74</td>\n",
       "      <td>2.74</td>\n",
       "      <td>NaN</td>\n",
       "      <td>NaN</td>\n",
       "      <td>50.0</td>\n",
       "      <td>NaN</td>\n",
       "      <td>NaN</td>\n",
       "    </tr>\n",
       "    <tr>\n",
       "      <th>BLTA</th>\n",
       "      <td>BLTA</td>\n",
       "      <td>PT BERLIAN LAJU TANKER TBK</td>\n",
       "      <td>Industrials</td>\n",
       "      <td>Equity</td>\n",
       "      <td>70,841.33</td>\n",
       "      <td>0.02</td>\n",
       "      <td>0.010000</td>\n",
       "      <td>NaN</td>\n",
       "      <td>NaN</td>\n",
       "      <td>NaN</td>\n",
       "      <td>NaN</td>\n",
       "      <td>NaN</td>\n",
       "      <td>NaN</td>\n",
       "      <td>50.0</td>\n",
       "      <td>NaN</td>\n",
       "      <td>NaN</td>\n",
       "    </tr>\n",
       "  </tbody>\n",
       "</table>\n",
       "<p>71 rows × 16 columns</p>\n",
       "</div>"
      ],
      "text/plain": [
       "       Symbol                        Name       Sector   Asset      MarketCap  \\\n",
       "Symbol                                                                          \n",
       "INKP     INKP     INDAH KIAT PULP & PAPER    Materials  Equity   6,264,192.05   \n",
       "ADRO     ADRO            ADARO ENERGY TBK       Energy  Equity   3,767,412.49   \n",
       "TKIM     TKIM   PABRIK KERTAS TJIWI KIMIA    Materials  Equity   2,508,082.23   \n",
       "ITMG     ITMG      INDO TAMBANGRAYA MEGAH       Energy  Equity   1,016,134.52   \n",
       "BBCA     BBCA           BANK CENTRAL ASIA   Financials  Equity  59,178,550.05   \n",
       "...       ...                         ...          ...     ...            ...   \n",
       "MYRX     MYRX        HANSON INTERNATIONAL  Real Estate  Equity     886,010.24   \n",
       "TRAM     TRAM           TRADA ALAM MINERA  Industrials  Equity     392,497.91   \n",
       "TAMU     TAMU   PELAYARAN TAMARIN SAMUDRA       Energy  Equity     271,317.93   \n",
       "RIMO     RIMO  RIMO INTERNATIONAL LESTARI  Real Estate  Equity     135,634.47   \n",
       "BLTA     BLTA  PT BERLIAN LAJU TANKER TBK  Industrials  Equity      70,841.33   \n",
       "\n",
       "        Weight  (Earnings Per Share, 2015-12)  (Earnings Per Share, 2016-12)  \\\n",
       "Symbol                                                                         \n",
       "INKP      2.02                       0.040000                       0.040000   \n",
       "ADRO      1.22                            NaN                       0.010000   \n",
       "TKIM      0.81                            NaN                            NaN   \n",
       "ITMG      0.33                       0.060000                       0.120000   \n",
       "BBCA     19.10                     731.000000                     836.000000   \n",
       "...        ...                            ...                            ...   \n",
       "MYRX      0.29                       0.260000                       0.870000   \n",
       "TRAM      0.13                    -105.510002                     -23.299999   \n",
       "TAMU      0.09                            NaN                      -2.270000   \n",
       "RIMO      0.04                      -5.060000                      -5.910000   \n",
       "BLTA      0.02                       0.010000                            NaN   \n",
       "\n",
       "        (Earnings Per Share, 2017-12)  (Earnings Per Share, 2018-12)  \\\n",
       "Symbol                                                                 \n",
       "INKP                             0.08                           0.11   \n",
       "ADRO                             0.01                           0.01   \n",
       "TKIM                             0.01                           0.08   \n",
       "ITMG                             0.23                           0.24   \n",
       "BBCA                           945.00                        1049.00   \n",
       "...                               ...                            ...   \n",
       "MYRX                            -1.53                           1.10   \n",
       "TRAM                            -0.67                           5.95   \n",
       "TAMU                              NaN                            NaN   \n",
       "RIMO                             1.46                           2.74   \n",
       "BLTA                              NaN                            NaN   \n",
       "\n",
       "        (Earnings Per Share, 2019-12)  (Earnings Per Share, TTM)  weightedEPS  \\\n",
       "Symbol                                                                          \n",
       "INKP                             0.05                       0.06       0.1212   \n",
       "ADRO                             0.01                       0.01       0.0122   \n",
       "TKIM                             0.05                       0.05       0.0405   \n",
       "ITMG                             0.12                       0.09       0.0297   \n",
       "BBCA                          1159.00                    1133.00   21640.3000   \n",
       "...                               ...                        ...          ...   \n",
       "MYRX                            -2.64                        NaN          NaN   \n",
       "TRAM                             3.48                        NaN          NaN   \n",
       "TAMU                              NaN                        NaN          NaN   \n",
       "RIMO                             2.74                        NaN          NaN   \n",
       "BLTA                              NaN                        NaN          NaN   \n",
       "\n",
       "          Price      (PE, TTM)   weightedPE  \n",
       "Symbol                                       \n",
       "INKP     9500.0  158333.336872  3198.333405  \n",
       "ADRO     1115.0  111500.002492  1360.300030  \n",
       "TKIM     6925.0  138499.997936  1121.849983  \n",
       "ITMG     8200.0   91111.107491   300.666655  \n",
       "BBCA    31650.0      27.934687     5.335525  \n",
       "...         ...            ...          ...  \n",
       "MYRX       50.0            NaN          NaN  \n",
       "TRAM       50.0            NaN          NaN  \n",
       "TAMU       54.0            NaN          NaN  \n",
       "RIMO       50.0            NaN          NaN  \n",
       "BLTA       50.0            NaN          NaN  \n",
       "\n",
       "[71 rows x 16 columns]"
      ]
     },
     "execution_count": 172,
     "metadata": {},
     "output_type": "execute_result"
    }
   ],
   "source": [
    "eido.sort_values('weightedPE', ascending=False)"
   ]
  },
  {
   "cell_type": "code",
   "execution_count": 45,
   "metadata": {},
   "outputs": [
    {
     "data": {
      "text/plain": [
       "'http://financials.morningstar.com/ajax/ReportProcess4HtmlAjax.html?&t=XIDX:BBCA&region=idn&culture=en-US&version=SAL&cur=&reportType=is&period=12&dataType=R&order=asc&columnYear=10&curYearPart=1st5year&rounding=3&view=decimal&r=401953&callback=jsonp1597682400046&_=1597682400090'"
      ]
     },
     "execution_count": 45,
     "metadata": {},
     "output_type": "execute_result"
    }
   ],
   "source": [
    "'http://financials.morningstar.com/ajax/ReportProcess4HtmlAjax.html?&t=XIDX:BBCA&region=idn&culture=en-US&version=SAL&cur=&reportType=is&period=12&dataType=R&order=asc&columnYear=10&curYearPart=1st5year&rounding=3&view=decimal&r=401953&callback=jsonp1597682400046&_=1597682400090'"
   ]
  },
  {
   "cell_type": "code",
   "execution_count": 46,
   "metadata": {},
   "outputs": [
    {
     "data": {
      "text/plain": [
       "'http://financials.morningstar.com/ajax/ReportProcess4HtmlAjax.html?&t=XNSE:PCJEWELLER&region=ind&culture=en-US&version=SAL&cur=&reportType=is&period=12&dataType=R&order=asc&columnYear=10&curYearPart=1st5year&rounding=3&view=decimal&r=515122&callback=jsonp1597682464958&_=1597682465025'"
      ]
     },
     "execution_count": 46,
     "metadata": {},
     "output_type": "execute_result"
    }
   ],
   "source": [
    "'http://financials.morningstar.com/ajax/ReportProcess4HtmlAjax.html?&t=XNSE:PCJEWELLER&region=ind&culture=en-US&version=SAL&cur=&reportType=is&period=12&dataType=R&order=asc&columnYear=10&curYearPart=1st5year&rounding=3&view=decimal&r=515122&callback=jsonp1597682464958&_=1597682465025'"
   ]
  },
  {
   "cell_type": "code",
   "execution_count": 47,
   "metadata": {},
   "outputs": [
    {
     "data": {
      "text/plain": [
       "'http://financials.morningstar.com/ajax/ReportProcess4HtmlAjax.html?&t=XNSE:PCJEWELLER&region=ind&culture=en-US&version=SAL&cur=&reportType=bs&period=12&dataType=R&order=asc&columnYear=10&curYearPart=1st5year&rounding=3&view=decimal&r=617433&callback=jsonp1597682521236&_=1597682521326'"
      ]
     },
     "execution_count": 47,
     "metadata": {},
     "output_type": "execute_result"
    }
   ],
   "source": [
    "'http://financials.morningstar.com/ajax/ReportProcess4HtmlAjax.html?&t=XNSE:PCJEWELLER&region=ind&culture=en-US&version=SAL&cur=&reportType=bs&period=12&dataType=R&order=asc&columnYear=10&curYearPart=1st5year&rounding=3&view=decimal&r=617433&callback=jsonp1597682521236&_=1597682521326'"
   ]
  },
  {
   "cell_type": "markdown",
   "metadata": {},
   "source": [
    "ADR: false\n",
    "columnYear: \"10\" or \"5\"\n",
    "culture: \"en-US\"\n",
    "dataType: \"A\"(As Reported), \"R\"(Restated)\n",
    "order: \"asc\" or \"desc\"\n",
    "period: \"12\" or \"3\"\n",
    "reportType: \"bs\" or \"is\" or \"cf\"\n",
    "rounding: \"4\", 1(original), 2(thousands), 3(millions), 4(billions)\n",
    "userType: \"S\"\n",
    "view: \"raw\" or \"percentage\" or \"decimal\""
   ]
  }
 ],
 "metadata": {
  "kernelspec": {
   "display_name": "Python 3",
   "language": "python",
   "name": "python3"
  },
  "language_info": {
   "codemirror_mode": {
    "name": "ipython",
    "version": 3
   },
   "file_extension": ".py",
   "mimetype": "text/x-python",
   "name": "python",
   "nbconvert_exporter": "python",
   "pygments_lexer": "ipython3",
   "version": "3.8.5"
  }
 },
 "nbformat": 4,
 "nbformat_minor": 4
}
