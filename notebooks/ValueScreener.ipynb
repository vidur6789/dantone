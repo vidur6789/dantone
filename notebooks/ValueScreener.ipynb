{
 "cells": [
  {
   "cell_type": "code",
   "execution_count": 2,
   "id": "ffdd52bc-32d9-4516-b1db-91a5f51ddb61",
   "metadata": {},
   "outputs": [],
   "source": [
    "import sys\n",
    "import os\n",
    "sys.path.append('../') # root directory"
   ]
  },
  {
   "cell_type": "code",
   "execution_count": 3,
   "id": "465841ca-282e-4724-b234-69b9b15dfb08",
   "metadata": {},
   "outputs": [],
   "source": [
    "from constants import constant\n",
    "import pandas as pd\n",
    "import numpy as np\n",
    "import constants.constant as constant\n",
    "import utils.commonutils as utils\n",
    "import utils.scraperutils as scraperutils\n",
    "from constants.namedtuples import Column\n",
    "from write.JsonFileWriter import write\n",
    "from read.JsonFileReader import parse\n",
    "from pathlib import Path\n",
    "from tqdm import tqdm\n",
    "from itertools import chain"
   ]
  },
  {
   "cell_type": "code",
   "execution_count": 4,
   "id": "034068e9-fb34-4eb3-af15-842602cdee82",
   "metadata": {},
   "outputs": [
    {
     "data": {
      "text/plain": [
       "['MorningStarStat.json',\n",
       " 'ARK_INNOVATION_ETF_ARKK_HOLDINGS.csv',\n",
       " '.ipynb_checkpoints',\n",
       " 'ARKK.json']"
      ]
     },
     "execution_count": 4,
     "metadata": {},
     "output_type": "execute_result"
    }
   ],
   "source": [
    "os.listdir('data')"
   ]
  },
  {
   "cell_type": "code",
   "execution_count": 5,
   "id": "1e67bdcc-bd74-4857-9a5a-af62d613a664",
   "metadata": {},
   "outputs": [
    {
     "data": {
      "text/plain": [
       "530"
      ]
     },
     "execution_count": 5,
     "metadata": {},
     "output_type": "execute_result"
    }
   ],
   "source": [
    "stocks = parse('data/MorningStarStat.json')\n",
    "KEY_STATS = 'keyStats'\n",
    "FIN_STATS = 'financeStats'\n",
    "TICKER = 'symbol'\n",
    "PERIOD_ALL = 100\n",
    "NULL = '—'\n",
    "len(stocks)"
   ]
  },
  {
   "cell_type": "code",
   "execution_count": 6,
   "id": "f82cdd3d-41ca-48e2-b3de-9e597b2c108f",
   "metadata": {},
   "outputs": [],
   "source": [
    "KEY_STAT_NAME = 'name'\n",
    "KEY_STAT_VALUES = 'values'\n",
    "KEY_STAT_PERIOD = 'period'\n",
    "KEY_STAT_VALUE = 'value'"
   ]
  },
  {
   "cell_type": "code",
   "execution_count": 7,
   "id": "eeecd6ce-2f11-4b0d-aa48-0ce7347d8f82",
   "metadata": {},
   "outputs": [],
   "source": [
    "stat_name = 'Operating Margin'\n",
    "stock_ticker = 'TAP'"
   ]
  },
  {
   "cell_type": "code",
   "execution_count": 8,
   "id": "b91ab5db-3b2e-44b1-ab03-0a3c7f70cf21",
   "metadata": {},
   "outputs": [
    {
     "data": {
      "text/plain": [
       "(530,)"
      ]
     },
     "execution_count": 8,
     "metadata": {},
     "output_type": "execute_result"
    }
   ],
   "source": [
    "tickers = pd.Series([s[TICKER] for s in stocks])\n",
    "tickers.shape"
   ]
  },
  {
   "cell_type": "code",
   "execution_count": 10,
   "id": "d915cf7f-23de-4d79-bc69-4dff590b1c0c",
   "metadata": {},
   "outputs": [
    {
     "data": {
      "text/plain": [
       "dict_keys(['symbol', 'financeStats', 'keyStats'])"
      ]
     },
     "execution_count": 10,
     "metadata": {},
     "output_type": "execute_result"
    }
   ],
   "source": [
    "stocks[0].keys()"
   ]
  },
  {
   "cell_type": "markdown",
   "id": "5f333b8b-779f-42e0-bf24-93f3c6d37ffa",
   "metadata": {
    "tags": []
   },
   "source": [
    "## Retrieve Stock, Stat & Values from Raw Data"
   ]
  },
  {
   "cell_type": "code",
   "execution_count": 8,
   "id": "a118e7e8-223e-4b7c-a1bd-6d6bd4f256d1",
   "metadata": {},
   "outputs": [],
   "source": [
    "def get_stock(stocks, ticker):\n",
    "    '''\n",
    "    return stock based on ticker\n",
    "    '''\n",
    "    for stock in stocks:\n",
    "        if stock[TICKER] == ticker:\n",
    "            return stock"
   ]
  },
  {
   "cell_type": "code",
   "execution_count": 9,
   "id": "6c6d5226-0447-4cf9-8e2a-241d8d21da76",
   "metadata": {},
   "outputs": [],
   "source": [
    "def get_stat(stats, name):\n",
    "    '''\n",
    "    return stat based on name & stats passed\n",
    "    '''\n",
    "    for stat in stats:\n",
    "        if stat[KEY_STAT_NAME] == name:\n",
    "            return stat"
   ]
  },
  {
   "cell_type": "code",
   "execution_count": 10,
   "id": "591dfe27-83eb-4e8e-a216-374040450da3",
   "metadata": {},
   "outputs": [],
   "source": [
    "def get_value(stat, period=-1):\n",
    "    '''\n",
    "    return stat values for the passed stat, using period as the index. -1 returns TTM. 100 returns all. \n",
    "    '''\n",
    "    if period == PERIOD_ALL:\n",
    "        return stat[KEY_STAT_VALUES]\n",
    "    else:\n",
    "        return stat[KEY_STAT_VALUES][period]"
   ]
  },
  {
   "cell_type": "code",
   "execution_count": 11,
   "id": "3ca5b40d-6e32-4d49-8c90-21c0350f0fff",
   "metadata": {},
   "outputs": [],
   "source": [
    "def get_stat_value(stock, stat_type, stat_name, period=-1):\n",
    "    stat = get_stat(stock[stat_type], stat_name)\n",
    "    value = get_value(stat, period=period)\n",
    "    return value"
   ]
  },
  {
   "cell_type": "code",
   "execution_count": null,
   "id": "54b9194f-885f-4102-9127-2dea0e2d71fd",
   "metadata": {
    "tags": []
   },
   "outputs": [],
   "source": [
    "stock = get_stock(stocks, stock_ticker)\n",
    "stat = get_stat(stock[KEY_STATS], stat_name)\n",
    "values = get_value(stat, period=PERIOD_ALL)\n",
    "values"
   ]
  },
  {
   "cell_type": "code",
   "execution_count": null,
   "id": "24bac943-361c-4f77-bb36-aeb79e2c6a60",
   "metadata": {},
   "outputs": [],
   "source": [
    "get_stat_value(stat)"
   ]
  },
  {
   "cell_type": "code",
   "execution_count": null,
   "id": "782962b2-2ee0-4c7c-b181-2adf4dba9563",
   "metadata": {},
   "outputs": [],
   "source": [
    "pd.Series([v[KEY_STAT_VALUE] for v in values], dtype='float64')"
   ]
  },
  {
   "cell_type": "markdown",
   "id": "b25c8b08-8500-46c3-8f74-8756242df37f",
   "metadata": {},
   "source": [
    "## Screener"
   ]
  },
  {
   "cell_type": "code",
   "execution_count": 12,
   "id": "3e8bddb1-46f1-4421-a993-5373ade267de",
   "metadata": {},
   "outputs": [
    {
     "data": {
      "text/plain": [
       "(530, 85)"
      ]
     },
     "execution_count": 12,
     "metadata": {},
     "output_type": "execute_result"
    }
   ],
   "source": [
    "stat_names = [s[KEY_STAT_NAME] for s in chain(stocks[0][KEY_STATS], stocks[0][FIN_STATS])]\n",
    "tickers = [s[TICKER] for s in stocks]\n",
    "len(tickers), len(stat_names)"
   ]
  },
  {
   "cell_type": "code",
   "execution_count": 13,
   "id": "55ca06ea-8f73-4c83-9f5b-ae94141b2e0b",
   "metadata": {},
   "outputs": [],
   "source": [
    "# Efficiency\n",
    "ROIC = 'Return on Invested Capital %'\n",
    "OPERATING_MARGIN = 'Operating Margin'\n",
    "GROSS_MARGIN = 'Gross Margin'\n",
    "NET_MARGIN = 'Net Margin %'\n",
    "\n",
    "# Growth\n",
    "OPERATING_CF_GROWTH = 'Operating Cash Flow Growth % YOY'\n",
    "REVENUE_GROWTH_3 = 'Revenue % 3-Year Average'\n",
    "REVENUE_GROWTH_5 = 'Revenue % 5-Year Average'\n",
    "OPERATING_INCOME_GROWTH_3 = 'Operating Income % 3-Year Average'\n",
    "OPERATING_INCOME_GROWTH_5 = 'Operating Income % 5-Year Average'\n",
    "\n",
    "# Financial Risks\n",
    "DEBT_EQUITY = 'Debt/Equity'"
   ]
  },
  {
   "cell_type": "markdown",
   "id": "4909d9d1-1919-4c1d-ae10-209015e58961",
   "metadata": {},
   "source": [
    "## Fundamentals"
   ]
  },
  {
   "cell_type": "code",
   "execution_count": null,
   "id": "1266ab68-05ba-4681-b29e-e66af3c3f8ad",
   "metadata": {},
   "outputs": [],
   "source": [
    "OPERATING_CF = 'Operating Cash Flow'\n",
    "REVENUE = 'Revenue'\n",
    "EBT_MARGIN = 'EBT Margin'\n",
    "INTEREST_COVERAGE = 'Interest Coverage'\n",
    "INTEREST_EXPENSE = # revenue*EBT/(C-1)\n",
    "CAPEX = 'Cap Spending'\n",
    "TAX_RATE = 'Tax Rate %'\n",
    "\n",
    "DEBT_EQUITY = 'Debt/Equity'\n",
    "\n",
    "\n",
    "\n",
    "TOTAL_DEBT = \n",
    "CASH = \n",
    "SHARES = \n",
    "MINORITY INTEREST"
   ]
  },
  {
   "cell_type": "code",
   "execution_count": 15,
   "id": "2e7fbfa4-87b3-4bb8-bb86-ff8141680cbe",
   "metadata": {
    "tags": []
   },
   "outputs": [
    {
     "data": {
      "text/plain": [
       "['Revenue',\n",
       " 'COGS',\n",
       " 'Gross Margin',\n",
       " 'SG&A',\n",
       " 'R&D',\n",
       " 'Other',\n",
       " 'Operating Margin',\n",
       " 'Net Int Inc & Other',\n",
       " 'EBT Margin',\n",
       " 'Tax Rate %',\n",
       " 'Net Margin %',\n",
       " 'Asset Turnover (Average)',\n",
       " 'Return on Assets %',\n",
       " 'Financial Leverage (Average)',\n",
       " 'Return on Equity %',\n",
       " 'Return on Invested Capital %',\n",
       " 'Interest Coverage',\n",
       " 'Revenue % Year over Year',\n",
       " 'Revenue % 3-Year Average',\n",
       " 'Revenue % 5-Year Average',\n",
       " 'Revenue % 10-Year Average',\n",
       " 'Operating Income % Year over Year',\n",
       " 'Operating Income % 3-Year Average',\n",
       " 'Operating Income % 5-Year Average',\n",
       " 'Operating Income % 10-Year Average',\n",
       " 'Net Income % Year over Year',\n",
       " 'Net Income % 3-Year Average',\n",
       " 'Net Income % 5-Year Average',\n",
       " 'Net Income % 10-Year Average',\n",
       " 'EPS % Year over Year',\n",
       " 'EPS % 3-Year Average',\n",
       " 'EPS % 5-Year Average',\n",
       " 'EPS % 10-Year Average',\n",
       " 'Operating Cash Flow Growth % YOY',\n",
       " 'Free Cash Flow Growth % YOY',\n",
       " 'Cap Ex as a % of Sales',\n",
       " 'Free Cash Flow/Sales %',\n",
       " 'Free Cash Flow/Net Income',\n",
       " 'Cash & Short-Term Investments',\n",
       " 'Accounts Receivable',\n",
       " 'Inventory',\n",
       " 'Other Current Assets',\n",
       " 'Total Current Assets',\n",
       " 'Net PP&E',\n",
       " 'Intangibles',\n",
       " 'Other Long-Term Assets',\n",
       " 'Total Assets',\n",
       " 'Accounts Payable',\n",
       " 'Short-Term Debt',\n",
       " 'Taxes Payable',\n",
       " 'Accrued Liabilities',\n",
       " 'Other Short-Term Liabilities',\n",
       " 'Total Current Liabilities',\n",
       " 'Long-Term Debt',\n",
       " 'Other Long-Term Liabilities',\n",
       " 'Total Liabilities',\n",
       " \"Total Stockholders' Equity\",\n",
       " 'Total Liabilities & Equity',\n",
       " 'Current Ratio',\n",
       " 'Quick Ratio',\n",
       " 'Financial Leverage',\n",
       " 'Debt/Equity',\n",
       " 'Days Sales Outstanding',\n",
       " 'Days Inventory',\n",
       " 'Payables Period',\n",
       " 'Cash Conversion Cycle',\n",
       " 'Receivables Turnover',\n",
       " 'Inventory Turnover',\n",
       " 'Fixed Assets Turnover',\n",
       " 'Asset Turnover',\n",
       " 'Revenue',\n",
       " 'Gross Margin %',\n",
       " 'Operating Income',\n",
       " 'Operating Margin %',\n",
       " 'Net Income',\n",
       " 'Earnings Per Share',\n",
       " 'Dividends',\n",
       " 'Payout Ratio % *',\n",
       " 'Shares',\n",
       " 'Book Value Per Share *',\n",
       " 'Operating Cash Flow',\n",
       " 'Cap Spending',\n",
       " 'Free Cash Flow',\n",
       " 'Free Cash Flow Per Share *',\n",
       " 'Working Capital']"
      ]
     },
     "execution_count": 15,
     "metadata": {},
     "output_type": "execute_result"
    }
   ],
   "source": [
    "stat_names"
   ]
  },
  {
   "cell_type": "code",
   "execution_count": null,
   "id": "cae60bd7-2a3c-4097-84c8-bab8cbaa2b75",
   "metadata": {},
   "outputs": [],
   "source": []
  }
 ],
 "metadata": {
  "kernelspec": {
   "display_name": "Python 3 (ipykernel)",
   "language": "python",
   "name": "python3"
  },
  "language_info": {
   "codemirror_mode": {
    "name": "ipython",
    "version": 3
   },
   "file_extension": ".py",
   "mimetype": "text/x-python",
   "name": "python",
   "nbconvert_exporter": "python",
   "pygments_lexer": "ipython3",
   "version": "3.8.12"
  }
 },
 "nbformat": 4,
 "nbformat_minor": 5
}
